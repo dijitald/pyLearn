{
 "cells": [
  {
   "cell_type": "code",
   "execution_count": 10,
   "metadata": {},
   "outputs": [
    {
     "name": "stdout",
     "output_type": "stream",
     "text": [
      "[1, 2, 3, 4, 5, 6, 7, 8, 9]\n",
      "[2, 4, 6, 8, 10, 12, 14, 16, 18]\n",
      "[2, 4, 6, 8]\n",
      "['h', 'e', 'l', 'l', 'o', ' ', 'w', 'o', 'r', 'l', 'd']\n",
      "['PYTHON']\n"
     ]
    }
   ],
   "source": [
    "numbers = [1, 2, 3, 4, 5, 6, 7, 8, 9]\n",
    "print (numbers)\n",
    "\n",
    "print([x*2 for x in numbers])\n",
    "print([x for x in numbers if x % 2 == 0])\n",
    "\n",
    "print([x for x in \"hello world\"])\n",
    "print([n.upper() for n in [\"hello\", \"world\", \"python\"] if len(n)>5])"
   ]
  },
  {
   "cell_type": "code",
   "execution_count": 15,
   "metadata": {},
   "outputs": [],
   "source": [
    "with open('file1.txt', 'r') as file1:\n",
    "    numbers1 = file1.readlines()\n",
    "\n",
    "with open('file2.txt', 'r') as file2:\n",
    "    numbers2 = file2.readlines()\n",
    "\n",
    "common_numbers = [num.strip() for num in numbers1 if num in numbers2]\n",
    "\n",
    "with open('common_numbers.txt', 'w') as output_file:\n",
    "    for num in common_numbers:\n",
    "        output_file.write(str(num) + '\\n')\n"
   ]
  },
  {
   "cell_type": "markdown",
   "metadata": {},
   "source": [
    "newDict = { newKey:newValue for item in list if test }\n",
    "\n",
    "newDict = { newKey:newValue for (key,val) in dict.items() if test }"
   ]
  },
  {
   "cell_type": "code",
   "execution_count": 9,
   "metadata": {},
   "outputs": [
    {
     "name": "stdout",
     "output_type": "stream",
     "text": [
      "{'Alex': 96, 'Beth': 27, 'Caroline': 35, 'Dave': 49, 'Eleanor': 84, 'Freddie': 58}\n",
      "{'Alex': 96, 'Eleanor': 84}\n"
     ]
    }
   ],
   "source": [
    "import random\n",
    "\n",
    "names = [\"Alex\", \"Beth\", \"Caroline\", \"Dave\", \"Eleanor\", \"Freddie\"]\n",
    "studentScores = {student:random.randint(1,100) for student in names}\n",
    "print (studentScores)\n",
    "\n",
    "passedScores = {student:score for (student, score) in studentScores.items() if score >= 60}\n",
    "print (passedScores)\n",
    "\n"
   ]
  },
  {
   "cell_type": "code",
   "execution_count": 30,
   "metadata": {},
   "outputs": [
    {
     "name": "stdout",
     "output_type": "stream",
     "text": [
      "------data table-----------\n",
      "  students  scores\n",
      "0      Amy      76\n",
      "1    James      56\n",
      "2   Angela      65\n",
      "-----values------------\n",
      "0       Amy\n",
      "1     James\n",
      "2    Angela\n",
      "Name: students, dtype: object\n",
      "0    76\n",
      "1    56\n",
      "2    65\n",
      "Name: scores, dtype: int64\n",
      "------student rows-----------\n",
      "0\n",
      "Amy\n",
      "76\n",
      "1\n",
      "James\n",
      "56\n",
      "2\n",
      "Angela\n",
      "65\n"
     ]
    }
   ],
   "source": [
    "import pandas\n",
    "student_dict = {\n",
    "    \"students\": [\"Amy\", \"James\", \"Angela\"],\n",
    "    \"scores\": [76, 56, 65]\n",
    "}\n",
    "data = pandas.DataFrame(student_dict)\n",
    "print('------data table-----------')\n",
    "print(data)\n",
    "\n",
    "print('-----values------------')\n",
    "for (key, value) in data.items():\n",
    "    print(value)\n",
    "\n",
    "print('------student rows-----------')\n",
    "for (index, row) in data.iterrows():\n",
    "    print(index)\n",
    "    print(row.students)\n",
    "    print(row.scores)\n",
    "\n",
    "\n"
   ]
  }
 ],
 "metadata": {
  "kernelspec": {
   "display_name": "Python 3",
   "language": "python",
   "name": "python3"
  },
  "language_info": {
   "codemirror_mode": {
    "name": "ipython",
    "version": 3
   },
   "file_extension": ".py",
   "mimetype": "text/x-python",
   "name": "python",
   "nbconvert_exporter": "python",
   "pygments_lexer": "ipython3",
   "version": "3.10.12"
  }
 },
 "nbformat": 4,
 "nbformat_minor": 2
}
