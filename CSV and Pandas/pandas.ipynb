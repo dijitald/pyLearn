{
 "cells": [
  {
   "cell_type": "code",
   "execution_count": 20,
   "metadata": {},
   "outputs": [
    {
     "name": "stdout",
     "output_type": "stream",
     "text": [
      "[12, 14, 15, 14, 15, 16, 17]\n"
     ]
    }
   ],
   "source": [
    "# with open(\"weather_data.csv\") as file:\n",
    "#     data = file.readlines()\n",
    "# print (data)\n",
    "\n",
    "import csv\n",
    "with open(\"weather_data.csv\") as file:\n",
    "    data = csv.reader(file)\n",
    "    temperatures = []\n",
    "    for row in data:\n",
    "        if (row[1] == \"temp\"):\n",
    "            continue\n",
    "        temperatures.append(int(row[1]))\n",
    "\n",
    "    print(temperatures)\n"
   ]
  },
  {
   "cell_type": "code",
   "execution_count": 2,
   "metadata": {},
   "outputs": [
    {
     "name": "stdout",
     "output_type": "stream",
     "text": [
      "         day  temp condition\n",
      "0     Monday    12     Sunny\n",
      "1    Tuesday    14     Rainy\n",
      "2  Wednesday    15     Rainy\n",
      "3   Thursday    14     Sunny\n",
      "4     Friday    15    Cloudy\n",
      "5   Saturday    16     Rainy\n",
      "6     Sunday    17     Sunny\n",
      "0    12\n",
      "1    14\n",
      "2    15\n",
      "3    14\n",
      "4    15\n",
      "5    16\n",
      "6    17\n",
      "Name: temp, dtype: int64\n",
      "0    12\n",
      "1    14\n",
      "2    15\n",
      "3    14\n",
      "4    15\n",
      "5    16\n",
      "6    17\n",
      "Name: temp, dtype: int64\n"
     ]
    }
   ],
   "source": [
    "import pandas\n",
    "\n",
    "data = pandas.read_csv(\"weather_data.csv\")\n",
    "print(data)\n",
    "\n",
    "print(data[\"temp\"])\n",
    "print (data.temp)\n"
   ]
  },
  {
   "cell_type": "code",
   "execution_count": 29,
   "metadata": {},
   "outputs": [
    {
     "name": "stdout",
     "output_type": "stream",
     "text": [
      "      day  temp condition\n",
      "0  Monday    12     Sunny\n",
      "      day  temp condition\n",
      "6  Sunday    17     Sunny\n",
      "0    Sunny\n",
      "Name: condition, dtype: object\n",
      "0    53.6\n",
      "Name: temp, dtype: float64\n"
     ]
    }
   ],
   "source": [
    "print (data[data.day == \"Monday\"])\n",
    "print (data[data.temp == data.temp.max()])\n",
    "\n",
    "monday = data[data.day == \"Monday\"]\n",
    "print (monday.condition)\n",
    "print (monday.temp * 9/5 + 32)\n"
   ]
  },
  {
   "cell_type": "code",
   "execution_count": 4,
   "metadata": {},
   "outputs": [
    {
     "name": "stdout",
     "output_type": "stream",
     "text": [
      "  students  scores\n",
      "0      Amy      76\n",
      "1    James      56\n",
      "2   Angela      65\n"
     ]
    }
   ],
   "source": [
    "import pandas\n",
    "\n",
    "dict = {\n",
    "    \"students\": [\"Amy\", \"James\", \"Angela\"],\n",
    "    \"scores\": [76, 56, 65]\n",
    "}\n",
    "\n",
    "data = pandas.DataFrame(dict)\n",
    "print (data)\n",
    "data.to_csv(\"new_data.csv\")\n",
    "\n"
   ]
  },
  {
   "cell_type": "code",
   "execution_count": 3,
   "metadata": {},
   "outputs": [],
   "source": [
    "import pandas\n",
    "\n",
    "data = pandas.read_csv(\"2018_Central_Park_Squirrel_Census_-_Squirrel_Data.csv\")\n",
    "colorCounts = pandas.DataFrame(data[\"Primary Fur Color\"].value_counts())\n",
    "colorCounts.to_csv(\"squirrel_colors.csv\")\n"
   ]
  }
 ],
 "metadata": {
  "kernelspec": {
   "display_name": "Python 3",
   "language": "python",
   "name": "python3"
  },
  "language_info": {
   "codemirror_mode": {
    "name": "ipython",
    "version": 3
   },
   "file_extension": ".py",
   "mimetype": "text/x-python",
   "name": "python",
   "nbconvert_exporter": "python",
   "pygments_lexer": "ipython3",
   "version": "3.10.12"
  }
 },
 "nbformat": 4,
 "nbformat_minor": 2
}
