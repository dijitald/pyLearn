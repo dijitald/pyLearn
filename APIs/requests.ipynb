{
 "cells": [
  {
   "cell_type": "code",
   "execution_count": 11,
   "metadata": {},
   "outputs": [
    {
     "name": "stdout",
     "output_type": "stream",
     "text": [
      "(29.522, -96.1216)\n"
     ]
    }
   ],
   "source": [
    "import requests\n",
    "\n",
    "response = requests.get('http://api.open-notify.org/iss-now.json')\n",
    "response.raise_for_status()\n",
    "\n",
    "data = response.json()\n",
    "lat = float(data['iss_position']['latitude'])\n",
    "lng = float(data['iss_position']['longitude'])\n",
    "\n",
    "iss_position = (lat, lng)\n",
    "print (iss_position)\n"
   ]
  },
  {
   "cell_type": "code",
   "execution_count": 18,
   "metadata": {},
   "outputs": [
    {
     "name": "stdout",
     "output_type": "stream",
     "text": [
      "11 1\n"
     ]
    }
   ],
   "source": [
    "import requests\n",
    "\n",
    "MY_LAT = 41.118050\n",
    "MY_LONG = -73.412910\n",
    "MY_LAT = 29.522\n",
    "MY_LONG = -96.1216\n",
    "\n",
    "parameters = {\n",
    "    'lat': MY_LAT,\n",
    "    'lng': MY_LONG,\n",
    "    'formatted': 0\n",
    "}\n",
    "\n",
    "response = requests.get('https://api.sunrise-sunset.org/json', params=parameters)\n",
    "response.raise_for_status()\n",
    "data = response.json()\n",
    "sunrise = int(data['results']['sunrise'].split(\"T\")[1].split(\":\")[0])\n",
    "sunset = int(data['results']['sunset'].split(\"T\")[1].split(\":\")[0])\n",
    "\n",
    "print(sunrise, sunset)\n"
   ]
  },
  {
   "cell_type": "code",
   "execution_count": 23,
   "metadata": {},
   "outputs": [
    {
     "name": "stdout",
     "output_type": "stream",
     "text": [
      "11 1\n",
      "29.522 -96.1216\n",
      "ISS is above you\n",
      "It is nighttime\n"
     ]
    }
   ],
   "source": [
    "import datetime\n",
    "\n",
    "now = datetime.datetime.now().hour\n",
    "minLat = MY_LAT - 5\n",
    "maxLat = MY_LAT + 5\n",
    "minLng = MY_LONG - 5\n",
    "maxLng = MY_LONG + 5\n",
    "\n",
    "print (sunrise, sunset)\n",
    "print (lat, lng)\n",
    "\n",
    "if minLat <= lat <= maxLat and minLng <= lng <= maxLng:\n",
    "    print(\"ISS is above you\")\n",
    "    if sunrise < now < sunset:\n",
    "        print(\"It is daytime\")\n",
    "    else:\n",
    "        print(\"It is nighttime\")\n",
    "else:\n",
    "    print(\"ISS is not above you\")\n",
    "\n"
   ]
  }
 ],
 "metadata": {
  "kernelspec": {
   "display_name": "Python 3",
   "language": "python",
   "name": "python3"
  },
  "language_info": {
   "codemirror_mode": {
    "name": "ipython",
    "version": 3
   },
   "file_extension": ".py",
   "mimetype": "text/x-python",
   "name": "python",
   "nbconvert_exporter": "python",
   "pygments_lexer": "ipython3",
   "version": "3.10.12"
  }
 },
 "nbformat": 4,
 "nbformat_minor": 2
}
